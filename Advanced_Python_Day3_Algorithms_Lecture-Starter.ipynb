{
 "cells": [
  {
   "cell_type": "markdown",
   "metadata": {},
   "source": [
    "# Classic Algorithms"
   ]
  },
  {
   "cell_type": "markdown",
   "metadata": {},
   "source": [
    "## Tasks Today:\n",
    " \n",
    "1) <b>In-Place Algorithms</b> <br>\n",
    " &nbsp;&nbsp;&nbsp;&nbsp; a) Syntax <br>\n",
    " &nbsp;&nbsp;&nbsp;&nbsp; a) Out of Place Algorithm <br>\n",
    " &nbsp;&nbsp;&nbsp;&nbsp; b) In-Class Exercise #1 <br>\n",
    "2) <b>Two Pointers</b> <br>\n",
    "3) <b>Sorting Algorithms</b> <br>\n",
    "4) <b>Merge Sort</b> <br>\n",
    " &nbsp;&nbsp;&nbsp;&nbsp; a) Video on Algorithms <br>\n",
    " &nbsp;&nbsp;&nbsp;&nbsp; b) How it Works <br>\n",
    "5) <b>Exercises</b> <br>\n",
    " &nbsp;&nbsp;&nbsp;&nbsp; a) Exercise #1 - Reverse a List in Place Using an In-Place Algorithm <br>\n",
    " &nbsp;&nbsp;&nbsp;&nbsp; b) Exercise #2 - Find Distinct Words <br>\n",
    " &nbsp;&nbsp;&nbsp;&nbsp; c) Exercise #3 - Write a program to implement a Linear Search Algorithm. <br>"
   ]
  },
  {
   "cell_type": "markdown",
   "metadata": {},
   "source": [
    "## In-Place Algorithms"
   ]
  },
  {
   "cell_type": "markdown",
   "metadata": {},
   "source": [
    "#### Syntax\n",
    "\n",
    "'in-place' algorithms change the original object/item"
   ]
  },
  {
   "cell_type": "code",
   "execution_count": 5,
   "metadata": {},
   "outputs": [],
   "source": [
    "my_list = [1,2,3,4,5,6]"
   ]
  },
  {
   "cell_type": "code",
   "execution_count": 10,
   "metadata": {},
   "outputs": [
    {
     "name": "stdout",
     "output_type": "stream",
     "text": [
      "[1, 2, 3, 4, 5, 6]\n",
      "[1, 4, 3, 4, 5, 6]\n"
     ]
    },
    {
     "data": {
      "text/plain": [
       "[1, 4, 3, 2, 5, 6]"
      ]
     },
     "execution_count": 10,
     "metadata": {},
     "output_type": "execute_result"
    }
   ],
   "source": [
    "def swap(a_list, index1, index2):\n",
    "    print(a_list)\n",
    "    # hold the index1 value in a temp variable bc once a value is swapped, it's not available\n",
    "    \n",
    "    temp = a_list[index1]\n",
    "    a_list[index1] = a_list[index2]\n",
    "    print(a_list)\n",
    "    a_list[index2] = temp\n",
    "    return a_list\n",
    "\n",
    "swap(my_list, 1, 3)"
   ]
  },
  {
   "cell_type": "code",
   "execution_count": 13,
   "metadata": {},
   "outputs": [
    {
     "name": "stdout",
     "output_type": "stream",
     "text": [
      "before: [10, 25, 30, 40, 50, 60, 75, 80]\n",
      "after:  [10, 75, 30, 40, 50, 60, 25, 80]\n"
     ]
    }
   ],
   "source": [
    "# python has a cool trick to avoid having to set temp variable\n",
    "# a_list[a], a_list[b] = a_list[b], a_list[a]\n",
    "\n",
    "new_list = [10, 25, 30, 40, 50, 60, 75, 80]\n",
    "def swap_py(b_list, index_x, index_y):          \n",
    "    b_list[index_x], b_list[index_y] = b_list[index_y], b_list[index_x]\n",
    "    # ^ var1           ^ var2          ^value of var1    ^value of var2\n",
    "    return b_list\n",
    "\n",
    "print(f\"before: {new_list}\")\n",
    "swap_py(new_list, 1, 6)\n",
    "print(f\"after:  {new_list}\")"
   ]
  },
  {
   "cell_type": "code",
   "execution_count": 14,
   "metadata": {},
   "outputs": [
    {
     "name": "stdout",
     "output_type": "stream",
     "text": [
      "still:  [10, 75, 30, 40, 50, 60, 25, 80]\n"
     ]
    }
   ],
   "source": [
    "#change is permanent...\n",
    "print(f\"still:  {new_list}\")"
   ]
  },
  {
   "cell_type": "markdown",
   "metadata": {},
   "source": [
    "#### Out of Place Algorithm\n",
    "\n",
    "'out-of-place' algorithms don't change original item/object/input"
   ]
  },
  {
   "cell_type": "code",
   "execution_count": 18,
   "metadata": {},
   "outputs": [
    {
     "name": "stdout",
     "output_type": "stream",
     "text": [
      "before: ['Alabama', 'Alaska', 'Arizona', 'Arkansas', 'California', 'Colorado', 'Connecticut']\n",
      "after:  ['Alabama', 'Alaska', 'Arizona', 'Arkansas', 'California', 'Colorado', 'Connecticut']\n"
     ]
    }
   ],
   "source": [
    "def out_of_place_swap(z_list, index_a, index_b):\n",
    "    copy_list = z_list[:]\n",
    "    copy_list[index_a], copy_list[index_b] = copy_list[index_b], copy_list[index_a]\n",
    "    return copy_list\n",
    "\n",
    "state_list = ['Alabama', 'Alaska', 'Arizona', 'Arkansas', 'California', 'Colorado', 'Connecticut']\n",
    "print(f\"before: {state_list}\")\n",
    "new_state_list = out_of_place_swap(state_list, 1, 4)\n",
    "print(f\"after:  {state_list}\")"
   ]
  },
  {
   "cell_type": "code",
   "execution_count": 19,
   "metadata": {},
   "outputs": [
    {
     "name": "stdout",
     "output_type": "stream",
     "text": [
      "['Alabama', 'Alaska', 'Arizona', 'Arkansas', 'California', 'Colorado', 'Connecticut']\n",
      "['Alabama', 'California', 'Arizona', 'Arkansas', 'Alaska', 'Colorado', 'Connecticut']\n"
     ]
    }
   ],
   "source": [
    "print(state_list)\n",
    "print(new_state_list)"
   ]
  },
  {
   "cell_type": "code",
   "execution_count": 20,
   "metadata": {},
   "outputs": [
    {
     "name": "stdout",
     "output_type": "stream",
     "text": [
      "None\n",
      "['Alabama', 'Alaska', 'Arizona', 'Arkansas', 'California', 'Colorado', 'Connecticut']\n"
     ]
    }
   ],
   "source": [
    "state_list = ['Alabama', 'Wyoming', 'Alaska', 'Arizona', 'Arkansas', 'California', 'Colorado', 'Connecticut']\n",
    "\n",
    "# example built-in functions\n",
    "# in-place = list.sort()\n",
    "print(state_list.sort())\n",
    "# out-of-place => SET_VARIABLE=sorted(list)\n",
    "sorted_states = sorted(new_state_list)\n",
    "print(sorted_states)"
   ]
  },
  {
   "cell_type": "markdown",
   "metadata": {},
   "source": [
    "#### In-Class Exercise #1 <br>\n",
    "<p>Write a function that takes in four arguments (a_list, index1, index2, index3), and swaps those three positions in the list passed in.</p>"
   ]
  },
  {
   "cell_type": "code",
   "execution_count": 27,
   "metadata": {},
   "outputs": [],
   "source": [
    "def in_place_swappy(a_list, index1, index2, index3):\n",
    "    a_list[index3], a_list[index2], a_list[index1] = a_list[index1], a_list[index3], a_list[index2]\n",
    "    return a_list\n"
   ]
  },
  {
   "cell_type": "code",
   "execution_count": 28,
   "metadata": {},
   "outputs": [
    {
     "data": {
      "text/plain": [
       "['pony', 'unicorn', 'zebra']"
      ]
     },
     "execution_count": 28,
     "metadata": {},
     "output_type": "execute_result"
    }
   ],
   "source": [
    "the_list = ['zebra', 'pony', 'unicorn']\n",
    "in_place_swappy(the_list, 0, 1, 2)"
   ]
  },
  {
   "cell_type": "code",
   "execution_count": 30,
   "metadata": {},
   "outputs": [
    {
     "data": {
      "text/plain": [
       "['unicorn', 'zebra', 'pony']"
      ]
     },
     "execution_count": 30,
     "metadata": {},
     "output_type": "execute_result"
    }
   ],
   "source": [
    "def out_of_place_swappy(a_list, index1, index2, index3):\n",
    "    copy_list = a_list[:]\n",
    "    copy_list[index3], copy_list[index2], copy_list[index1] = copy_list[index1], copy_list[index3], copy_list[index2]\n",
    "    return copy_list\n",
    "\n",
    "the_list = ['zebra', 'pony', 'unicorn']\n",
    "out_of_place_swappy(the_list, 2, 1, 0)"
   ]
  },
  {
   "cell_type": "markdown",
   "metadata": {},
   "source": [
    "## Two Pointers"
   ]
  },
  {
   "cell_type": "markdown",
   "metadata": {},
   "source": [
    "#### Syntax"
   ]
  },
  {
   "cell_type": "code",
   "execution_count": 33,
   "metadata": {},
   "outputs": [
    {
     "name": "stdout",
     "output_type": "stream",
     "text": [
      "[5, 10, 15, 20, 25, 30]\n",
      "[30, 25, 20, 15, 10, 5]\n"
     ]
    }
   ],
   "source": [
    "def reverse_swap(a_list):\n",
    "    # create two 'pointers' to piont to the index we want to swap\n",
    "    left = 0  #first element in the list\n",
    "    right = len(a_list) - 1 #last element in the list\n",
    "    while left<right:\n",
    "        a_list[left], a_list[right] = a_list[right], a_list[left]\n",
    "        left += 1\n",
    "        right -= 1\n",
    "    #return a_list\n",
    "    #don't have to return anything bc it's an in-place function\n",
    "\n",
    "example = [5, 10, 15, 20, 25, 30]\n",
    "print(example)\n",
    "reverse_swap(example)\n",
    "print(example)"
   ]
  },
  {
   "cell_type": "code",
   "execution_count": 34,
   "metadata": {},
   "outputs": [
    {
     "name": "stdout",
     "output_type": "stream",
     "text": [
      "[30, 25, 20, 15, 10, 5]\n"
     ]
    }
   ],
   "source": [
    "#proof that it was an in-place swap\n",
    "print(example)"
   ]
  },
  {
   "cell_type": "markdown",
   "metadata": {},
   "source": [
    "# Sorting Algorithms"
   ]
  },
  {
   "cell_type": "code",
   "execution_count": 43,
   "metadata": {},
   "outputs": [
    {
     "name": "stdout",
     "output_type": "stream",
     "text": [
      "[41, 34, 26, 12, 93, 37, 11, 93, 27, 15]\n"
     ]
    }
   ],
   "source": [
    "import random\n",
    "\n",
    "list_to_sort = [random.randint(1,100) for _ in range(10)]\n",
    "print(list_to_sort)"
   ]
  },
  {
   "cell_type": "markdown",
   "metadata": {},
   "source": [
    "#### Bubble Sort\n",
    "\n",
    "Worst Case: O(n^2) Time - O(1) Space"
   ]
  },
  {
   "cell_type": "code",
   "execution_count": 44,
   "metadata": {},
   "outputs": [
    {
     "name": "stdout",
     "output_type": "stream",
     "text": [
      "[41, 34, 26, 12, 93, 37, 11, 93, 27, 15]\n",
      "[11, 12, 15, 26, 27, 34, 37, 41, 93, 93]\n"
     ]
    }
   ],
   "source": [
    "def bubble_sort(lst):\n",
    "    # when we first start, assume list is unsorted\n",
    "    is_sorted = False\n",
    "    # while the list is unsorted, loop through and bubble largest to top\n",
    "    while not is_sorted:\n",
    "        # before starting, assume it's sorted\n",
    "        is_sorted = True\n",
    "        # loop through list until 2nd to last (bc when we check for left/right, we will get index error)\n",
    "        for i in range(len(lst)-1):\n",
    "            # if list at index[i] > index[i+1], swap\n",
    "            if lst[i] > lst[i+1]:\n",
    "                lst[i], lst[i+1] = lst[i+1], lst[i]\n",
    "                # if we have to do any swaps, that means our list is NOT sorted, \n",
    "                # will have to continue\n",
    "                is_sorted = False\n",
    "                \n",
    "    return lst\n",
    "print(list_to_sort)\n",
    "bubble_sort(list_to_sort)\n",
    "print(list_to_sort)\n",
    "                "
   ]
  },
  {
   "cell_type": "markdown",
   "metadata": {},
   "source": [
    "##### Insertion Sort\n",
    "\n",
    "Worst Case: O(n^2) time - O(1)space"
   ]
  },
  {
   "cell_type": "code",
   "execution_count": 45,
   "metadata": {},
   "outputs": [
    {
     "name": "stdout",
     "output_type": "stream",
     "text": [
      "[15, 14, 31, 98, 20, 90, 56, 95, 97, 83]\n"
     ]
    }
   ],
   "source": [
    "list_to_sort = [random.randint(1,100) for _ in range(10)]\n",
    "print(list_to_sort)"
   ]
  },
  {
   "cell_type": "code",
   "execution_count": 46,
   "metadata": {},
   "outputs": [
    {
     "data": {
      "text/plain": [
       "[14, 15, 20, 31, 56, 83, 90, 95, 97, 98]"
      ]
     },
     "execution_count": 46,
     "metadata": {},
     "output_type": "execute_result"
    }
   ],
   "source": [
    "def insertion_sort(lst):\n",
    "    # Loop over the unordered section (start at 1 because 0-index is \"sorted\")\n",
    "    for i in range(1, len(lst)):\n",
    "        # While we're not at the front of the list AND the element to the left is less than our element\n",
    "        while i > 0 and lst[i] < lst[i-1]:\n",
    "            # swap our element with the element to its left\n",
    "            lst[i], lst[i-1] = lst[i-1], lst[i]\n",
    "            # move our pointer left one element (to match the new swap)\n",
    "            i -= 1\n",
    "    return lst\n",
    "\n",
    "\n",
    "insertion_sort(list_to_sort)"
   ]
  },
  {
   "cell_type": "markdown",
   "metadata": {},
   "source": [
    "## Merge Sort"
   ]
  },
  {
   "cell_type": "markdown",
   "metadata": {},
   "source": [
    "#### How it Works"
   ]
  },
  {
   "cell_type": "code",
   "execution_count": 48,
   "metadata": {},
   "outputs": [
    {
     "name": "stdout",
     "output_type": "stream",
     "text": [
      "[71, 28, 51, 17, 16, 55, 34, 1, 46, 20]\n"
     ]
    }
   ],
   "source": [
    "list_to_sort = [random.randint(1,100) for _ in range(10)]\n",
    "print(list_to_sort)"
   ]
  },
  {
   "cell_type": "code",
   "execution_count": 57,
   "metadata": {},
   "outputs": [],
   "source": [
    "def merge_sort(lst):\n",
    "    if len(lst) > 1:\n",
    "        # find middle\n",
    "        middle = len(lst) // 2\n",
    "        # split list in half\n",
    "        lower = lst[:middle]\n",
    "        upper = lst[middle:]\n",
    "        print('Splitting...', lst)\n",
    "        \n",
    "        # recursively call merge_sort on lower and upper lists\n",
    "        # these will wait to get the return value of the rest of the function\n",
    "        merge_sort(lower)\n",
    "        merge_sort(upper)\n",
    "        \n",
    "        \n",
    "        #use index pointers to merge lower and upper chunks of the list back into main list (lst)\n",
    "        l = 0\n",
    "        u = 0\n",
    "        m = 0\n",
    "        \n",
    "        # while pointers are still pointing at valid indices in both sections,\n",
    "        while l < len(lower) and u < len(upper):\n",
    "            # if the element in the lower part is less than the element of the upper part,\n",
    "            if lower[l] < upper[u]:\n",
    "                # put the lower element in the main list\n",
    "                lst[m] = lower[l]\n",
    "                # only increase the lower index if that one moved\n",
    "                l += 1\n",
    "            else:\n",
    "                # put the upper element in the main list\n",
    "                lst[m] = upper[u]\n",
    "                # only increase the upper index if that one moved\n",
    "                u += 1\n",
    "            # always increase the main pointer because it has been updated either way\n",
    "            m += 1\n",
    "         \n",
    "        # if the upper part is done and the lower part still has items left,\n",
    "        while l < len(lower):\n",
    "            lst[m] = lower[l]\n",
    "            l += 1\n",
    "            m += 1\n",
    "        # if the lower part is done and the upper part still has items left,\n",
    "        while u < len(upper):\n",
    "            lst[m] = upper[u]\n",
    "            u += 1\n",
    "            m += 1    \n",
    "        print(\"Merging...\")\n",
    "    return lst"
   ]
  },
  {
   "cell_type": "code",
   "execution_count": 58,
   "metadata": {},
   "outputs": [
    {
     "name": "stdout",
     "output_type": "stream",
     "text": [
      "Splitting... [71, 28, 51, 17, 16, 55, 34, 1]\n",
      "Splitting... [71, 28, 51, 17]\n",
      "Splitting... [71, 28]\n",
      "Merging...\n",
      "Splitting... [51, 17]\n",
      "Merging...\n",
      "Merging...\n",
      "Splitting... [16, 55, 34, 1]\n",
      "Splitting... [16, 55]\n",
      "Merging...\n",
      "Splitting... [34, 1]\n",
      "Merging...\n",
      "Merging...\n",
      "Merging...\n"
     ]
    },
    {
     "data": {
      "text/plain": [
       "[1, 16, 17, 28, 34, 51, 55, 71]"
      ]
     },
     "execution_count": 58,
     "metadata": {},
     "output_type": "execute_result"
    }
   ],
   "source": [
    "list_to_sort = [71, 28, 51, 17, 16, 55, 34, 1]\n",
    "merge_sort(list_to_sort)"
   ]
  },
  {
   "cell_type": "markdown",
   "metadata": {},
   "source": [
    "# Binary Search\n",
    "\n",
    "The Binary Search algorithm works by finding the number in the middle of a given array and comparing it to the target. **Given that the array is sorted**\n",
    "\n",
    "* The worst case run time for this algorithm is `O(log(n))`\n",
    "\n",
    "#### This is a SEARCH algorithm, NOT a sort"
   ]
  },
  {
   "cell_type": "code",
   "execution_count": 71,
   "metadata": {},
   "outputs": [],
   "source": [
    "# Less == Left\n",
    "# Greater == Right\n",
    "# List of numbers MUST be sorted\n",
    "\n",
    "def binary_search(list_to_search, target):\n",
    "    low = 0 # lowest index\n",
    "    high = len(list_to_search) - 1 # highest index\n",
    "    \n",
    "    while low < high:\n",
    "        mid = (low + high) // 2\n",
    "        if list_to_search[mid] == target:\n",
    "            return f\"The index for {target} is {mid}.\"\n",
    "        elif list_to_search[mid] > target:\n",
    "            high = mid - 1\n",
    "        else:\n",
    "            low = mid + 1\n",
    "    return -1"
   ]
  },
  {
   "cell_type": "code",
   "execution_count": 73,
   "metadata": {},
   "outputs": [
    {
     "data": {
      "text/plain": [
       "-1"
      ]
     },
     "execution_count": 73,
     "metadata": {},
     "output_type": "execute_result"
    }
   ],
   "source": [
    "##PROBLEM - figure out what went wrong\n",
    "\n",
    "binary_search([1, 16, 17, 28, 34, 51, 55, 71], 1)"
   ]
  },
  {
   "cell_type": "code",
   "execution_count": 61,
   "metadata": {},
   "outputs": [
    {
     "name": "stdout",
     "output_type": "stream",
     "text": [
      "[81, 95, 96, 38, 43, 21, 78, 42, 85, 88]\n"
     ]
    }
   ],
   "source": [
    "list_to_sort = [random.randint(1,100) for _ in range(10)]\n",
    "print(list_to_sort)"
   ]
  },
  {
   "cell_type": "markdown",
   "metadata": {},
   "source": [
    "# Exercises"
   ]
  },
  {
   "cell_type": "markdown",
   "metadata": {},
   "source": [
    "### Exercise #1 <br>\n",
    "<p>Reverse the list below <strong>out-of-place</strong> using an <strong>out-of-place</strong> algorithm.<br><br>For extra credit: Reverse the strings at the same time.</p>\n",
    "\n"
   ]
  },
  {
   "cell_type": "code",
   "execution_count": 132,
   "metadata": {},
   "outputs": [],
   "source": [
    "def reverse(iterable):\n",
    "    x = list(iterable)\n",
    "    \n",
    "    begin = 0\n",
    "    end = len(x)-1\n",
    "    \n",
    "    while begin < end:\n",
    "        x[begin], x[end] = reverse(x[end]), reverse(x[begin])\n",
    "        begin += 1\n",
    "        end -= 1\n",
    "    \n",
    "    if isinstance(iterable, str):\n",
    "        return \"\".join(x)\n",
    "    \n",
    "    return x\n"
   ]
  },
  {
   "cell_type": "code",
   "execution_count": 136,
   "metadata": {},
   "outputs": [
    {
     "name": "stdout",
     "output_type": "stream",
     "text": [
      "['this', 'is', 'a', 'sentence', '.']\n",
      "['.', 'ecnetnes', 'a', 'si', 'siht']\n",
      "['this', 'is', 'a', 'sentence', '.']\n"
     ]
    }
   ],
   "source": [
    "words = ['this' , 'is', 'a', 'sentence', '.']\n",
    "\n",
    "print(words)\n",
    "reverse_words = reverse(words)\n",
    "print(reverse_words)\n",
    "print(words)"
   ]
  },
  {
   "cell_type": "code",
   "execution_count": 138,
   "metadata": {},
   "outputs": [
    {
     "name": "stdout",
     "output_type": "stream",
     "text": [
      "['yes', 'this', 'is', 'a', 'sentence', '.']\n",
      "['.', 'ecnetnes', 'a', 'si', 'siht', 'sey']\n",
      "['yes', 'this', 'is', 'a', 'sentence', '.']\n"
     ]
    }
   ],
   "source": [
    "words2 = ['yes', 'this' , 'is', 'a', 'sentence', '.']\n",
    "\n",
    "print(words2)\n",
    "reverse_words = reverse(words2)\n",
    "print(reverse_words)\n",
    "print(words2)"
   ]
  },
  {
   "cell_type": "markdown",
   "metadata": {},
   "source": [
    "### Exercise #2 <br>\n",
    "<p>Create a function that counts how many <strong>distinct</strong> words are in the string below, then outputs a dictionary with the words as the key and the value as the amount of times that word appears in the string.</p>\n",
    "Example Output:<code>{'in': 1, 'computing': 1, 'a': 5, ...}</code>\n",
    "\n",
    "*Can all be lower case"
   ]
  },
  {
   "cell_type": "code",
   "execution_count": null,
   "metadata": {},
   "outputs": [],
   "source": [
    "# account for punctuation - strip the words before adding to dictionary\n",
    "# account for case - .lower() before .split()"
   ]
  },
  {
   "cell_type": "code",
   "execution_count": 144,
   "metadata": {
    "scrolled": true
   },
   "outputs": [
    {
     "data": {
      "text/plain": [
       "{'in': 3,\n",
       " 'computing': 2,\n",
       " 'a': 5,\n",
       " 'hash': 4,\n",
       " 'table': 2,\n",
       " 'map': 2,\n",
       " 'is': 1,\n",
       " 'data': 2,\n",
       " 'structure': 2,\n",
       " 'which': 2,\n",
       " 'implements': 1,\n",
       " 'an': 3,\n",
       " 'associative': 1,\n",
       " 'array': 2,\n",
       " 'abstract': 1,\n",
       " 'type': 1,\n",
       " 'that': 1,\n",
       " 'can': 2,\n",
       " 'keys': 1,\n",
       " 'to': 2,\n",
       " 'values': 1,\n",
       " 'uses': 1,\n",
       " 'function': 1,\n",
       " 'compute': 1,\n",
       " 'index': 1,\n",
       " 'into': 1,\n",
       " 'of': 1,\n",
       " 'buckets': 1,\n",
       " 'or': 1,\n",
       " 'slots': 1,\n",
       " 'from': 1,\n",
       " 'the': 1,\n",
       " 'desired': 1,\n",
       " 'value': 1,\n",
       " 'be': 1,\n",
       " 'found': 1}"
      ]
     },
     "execution_count": 144,
     "metadata": {},
     "output_type": "execute_result"
    }
   ],
   "source": [
    "a_text = 'In computing, a hash table hash map is in a data structure which implements computing in an associative array abstract data type, a structure that can map keys to values. A hash table uses a hash function to compute an index into an array of buckets or slots from which the desired value can be found'\n",
    "\n",
    "def distict(string):\n",
    "    s_list = string.lower().split()\n",
    "    a_list = s_list\n",
    "    w_dict = {}\n",
    "    i = 0\n",
    "    while i <= len(a_list) - 1:\n",
    "        if a_list[i].strip('!., ') not in w_dict:\n",
    "            w_dict[a_list[i].strip('!., ')] = 1\n",
    "        else:\n",
    "            w_dict[a_list[i].strip('!., ')] += 1\n",
    "        i += 1\n",
    "    return w_dict\n",
    "\n",
    "distict(a_text)"
   ]
  },
  {
   "cell_type": "code",
   "execution_count": 161,
   "metadata": {},
   "outputs": [
    {
     "data": {
      "text/plain": [
       "{'dogs': 5,\n",
       " 'eat': 1,\n",
       " 'food': 1,\n",
       " 'and': 1,\n",
       " 'treats': 1,\n",
       " 'chase': 1,\n",
       " 'play': 1,\n",
       " 'with': 1,\n",
       " 'other': 1}"
      ]
     },
     "execution_count": 161,
     "metadata": {},
     "output_type": "execute_result"
    }
   ],
   "source": [
    "# apparently I could have used for-loops this whole time,\n",
    "# negating the need for a stinking counter variable :/\n",
    "\n",
    "b_text = 'Dogs eat food and treats; Dogs chase dogs; Dogs play with other dogs.'\n",
    "\n",
    "def distict(string):\n",
    "    s_list = string.lower().split()\n",
    "    a_list = s_list\n",
    "    w_dict = {}\n",
    "\n",
    "    for i in a_list:\n",
    "        if i.strip(',.!:;') not in w_dict:\n",
    "            w_dict[i.strip(',.!:;')] = 1\n",
    "        else:\n",
    "            w_dict[i.strip(',.!:;')] += 1\n",
    "    return w_dict\n",
    "\n",
    "distict(b_text)"
   ]
  },
  {
   "cell_type": "markdown",
   "metadata": {},
   "source": [
    "## Exercise #3\n",
    "\n",
    "Write a function implementing a Linear Search Algorithm. A linear search is a method for finding an element within a list. It sequentially checks each element of the list until a match is found or the whole list has been searched. If you do not find a match, return -1"
   ]
  },
  {
   "cell_type": "markdown",
   "metadata": {},
   "source": [
    "## Linear Search\n",
    "\n",
    "Go to link Brian sent about the Binary Search and figure out how that's different from linear search :/"
   ]
  },
  {
   "cell_type": "code",
   "execution_count": 151,
   "metadata": {},
   "outputs": [],
   "source": [
    "# If number is not present return -1\n",
    "def linear_search(a_list, target):\n",
    "    i = 0\n",
    "    l = len(a_list) -1\n",
    "    \n",
    "    while l > i:\n",
    "        if a_list[i] == target:\n",
    "            return i\n",
    "        i += 1"
   ]
  },
  {
   "cell_type": "code",
   "execution_count": 152,
   "metadata": {},
   "outputs": [
    {
     "data": {
      "text/plain": [
       "3"
      ]
     },
     "execution_count": 152,
     "metadata": {},
     "output_type": "execute_result"
    }
   ],
   "source": [
    "nums_list = [10,23,45,70,11,15]\n",
    "target = 70\n",
    "\n",
    "linear_search(nums_list, target)"
   ]
  },
  {
   "cell_type": "code",
   "execution_count": 159,
   "metadata": {},
   "outputs": [],
   "source": [
    "# If number is not present return -1\n",
    "# my first solution was a for-loop\n",
    "\n",
    "def easy_linear_search(a_list, target):\n",
    "    \n",
    "    for i in a_list:\n",
    "        if i == target:\n",
    "            return a_list.index(i)"
   ]
  },
  {
   "cell_type": "code",
   "execution_count": 160,
   "metadata": {},
   "outputs": [
    {
     "name": "stdout",
     "output_type": "stream",
     "text": [
      "2\n"
     ]
    }
   ],
   "source": [
    "nums_list = [10,23,45,70,11,15]\n",
    "target = 45\n",
    "\n",
    "test = easy_linear_search(nums_list, target)\n",
    "print(test)"
   ]
  }
 ],
 "metadata": {
  "kernelspec": {
   "display_name": "Python 3 (ipykernel)",
   "language": "python",
   "name": "python3"
  },
  "language_info": {
   "codemirror_mode": {
    "name": "ipython",
    "version": 3
   },
   "file_extension": ".py",
   "mimetype": "text/x-python",
   "name": "python",
   "nbconvert_exporter": "python",
   "pygments_lexer": "ipython3",
   "version": "3.9.7"
  }
 },
 "nbformat": 4,
 "nbformat_minor": 2
}
